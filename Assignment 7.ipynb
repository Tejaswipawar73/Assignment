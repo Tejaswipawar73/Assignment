{
 "cells": [
  {
   "cell_type": "code",
   "execution_count": 13,
   "id": "7dec5ad2",
   "metadata": {},
   "outputs": [
    {
     "name": "stdout",
     "output_type": "stream",
     "text": [
      "25\n",
      "5\n",
      "150\n",
      "1.5\n"
     ]
    }
   ],
   "source": [
    "#1.Create two int type variables, apply addition, subtraction, division and multiplications\n",
    "#and store the results in variables. Then print the data in the following format by calling the\n",
    "#variables:\n",
    "\n",
    "a=15\n",
    "b=10\n",
    "\n",
    "addition=a+b\n",
    "print(addition)\n",
    "\n",
    "subtraction=a-b\n",
    "print(subtraction)\n",
    "\n",
    "multiplication=a*b\n",
    "print(multiplication)\n",
    "\n",
    "division=a/b\n",
    "print(division)\n",
    "    \n",
    "    "
   ]
  },
  {
   "cell_type": "code",
   "execution_count": 2,
   "id": "d8fbf86f",
   "metadata": {},
   "outputs": [
    {
     "name": "stdout",
     "output_type": "stream",
     "text": [
      "3.3333333333333335\n",
      "3\n"
     ]
    }
   ],
   "source": [
    "#2.What is the difference between the following operators:\n",
    "\n",
    "#(i)‘/’ & ‘//’\n",
    "#Ans-Normal Division : Divides the value on the left by the one on the right.\n",
    "#Notice that division results in a floating-point value.\n",
    "divide=10/3 #Normal Division\n",
    "print(divide)\n",
    "\n",
    "\n",
    "#Floor Division : Divides and returns the integer value of the quotient.\n",
    "#It neglects the digits after the decimal.\n",
    "divide=10//3 #Floor Division\n",
    "print(divide)"
   ]
  },
  {
   "cell_type": "code",
   "execution_count": null,
   "id": "68525a50",
   "metadata": {},
   "outputs": [],
   "source": [
    "#(ii)‘**’ & ‘^'\n",
    "#Ans-In python, ** is the exponentiation operator, and ^ is the XOR operator \n"
   ]
  },
  {
   "cell_type": "code",
   "execution_count": null,
   "id": "e17c6345",
   "metadata": {},
   "outputs": [],
   "source": [
    "#3. List the logical operators.\n",
    "#Ans-and\tLogical AND: True if both the operands are true\n",
    "#or\tLogical OR: True if either of the operands is true\n",
    "#not\tLogical NOT: True if operand is false"
   ]
  },
  {
   "cell_type": "code",
   "execution_count": 5,
   "id": "0623b264",
   "metadata": {},
   "outputs": [
    {
     "name": "stdout",
     "output_type": "stream",
     "text": [
      "a >> 1 = 5\n",
      "b >> 1 = -5\n",
      "a << 1 = 10\n",
      "b << 1 = -20\n"
     ]
    }
   ],
   "source": [
    "#4.Explain right shift operator and left shift operator with examples.\n",
    "\n",
    "#Ans-Left shift operator-Python bitwise left shift operator shifts the\n",
    "#left operand bits towards the left side for the given number of times in the right operand. \n",
    "#In simple terms, the binary number is appended with 0s at the end.\n",
    "\n",
    "#Python right shift operator is exactly the opposite of the left shift operator. \n",
    "#Then left side operand bits are moved towards the right side for the given number of times. \n",
    "#In simple terms, the right side bits are removed.\n",
    "\n",
    "# Python program to show\n",
    "# shift operators\n",
    " \n",
    "a = 10\n",
    "b = -10\n",
    " \n",
    "# print bitwise right shift operator\n",
    "print(\"a >> 1 =\", a >> 1)\n",
    "print(\"b >> 1 =\", b >> 1)\n",
    " \n",
    "a = 5\n",
    "b = -10\n",
    " \n",
    "# print bitwise left shift operator\n",
    "print(\"a << 1 =\", a << 1)\n",
    "print(\"b << 1 =\", b << 1)"
   ]
  },
  {
   "cell_type": "code",
   "execution_count": 9,
   "id": "17a20c17",
   "metadata": {},
   "outputs": [
    {
     "name": "stdout",
     "output_type": "stream",
     "text": [
      "Element Exists\n"
     ]
    }
   ],
   "source": [
    "#5.Create a list containing int type data of length 15. Then write a code to check if 10 is\n",
    "#present in the list or not.\n",
    "\n",
    "# Initializing list\n",
    "test_list = [1, 6, 3, 5, 3, 4, 8, 9, 11, 13, 15, 10, 16, 18, 20]\n",
    " \n",
    "# Checking if 10 exists in list\n",
    "for i in test_list:\n",
    "    if(i == 10):\n",
    "        print(\"Element Exists\")"
   ]
  }
 ],
 "metadata": {
  "kernelspec": {
   "display_name": "Python 3 (ipykernel)",
   "language": "python",
   "name": "python3"
  },
  "language_info": {
   "codemirror_mode": {
    "name": "ipython",
    "version": 3
   },
   "file_extension": ".py",
   "mimetype": "text/x-python",
   "name": "python",
   "nbconvert_exporter": "python",
   "pygments_lexer": "ipython3",
   "version": "3.10.9"
  }
 },
 "nbformat": 4,
 "nbformat_minor": 5
}
