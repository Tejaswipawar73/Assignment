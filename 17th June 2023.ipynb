{
 "cells": [
  {
   "cell_type": "code",
   "execution_count": null,
   "id": "60c98375",
   "metadata": {},
   "outputs": [],
   "source": [
    "# 1. What is the role of try and exception block?\n",
    "\n",
    "#Ans-The try and except block in Python is used to catch and handle exceptions. Python executes code following the try\n",
    "#statement as a “normal” part of the program. The code that follows the except statement is the program's response\n",
    "#to any exceptions in the preceding try clause."
   ]
  },
  {
   "cell_type": "code",
   "execution_count": 1,
   "id": "4a5e4723",
   "metadata": {},
   "outputs": [
    {
     "name": "stdout",
     "output_type": "stream",
     "text": [
      "Data type Mismatch\n"
     ]
    }
   ],
   "source": [
    "# 2.What is the syntax for a basic try-except block?\n",
    "\n",
    "#Ans-\n",
    "\n",
    "try:\n",
    "    x='10'\n",
    "    y=20\n",
    "    z=x+y\n",
    "    print(z)\n",
    "    \n",
    "except TypeError:\n",
    "    print(\"Data type Mismatch\")"
   ]
  },
  {
   "cell_type": "code",
   "execution_count": null,
   "id": "f25b0818",
   "metadata": {},
   "outputs": [],
   "source": [
    "# 3.What happens if an exception occurs inside a try block and there is no matching\n",
    "#except block?\n",
    "\n",
    "#Ans- If an exception occurs during execution of the try clause, the rest of the clause is skipped. Then, if its type\n",
    "#matches the exception named after the except keyword, the except clause is executed, and then execution continues after\n",
    "#the try/except block."
   ]
  },
  {
   "cell_type": "code",
   "execution_count": null,
   "id": "8765db5f",
   "metadata": {},
   "outputs": [],
   "source": [
    "# 4. What is the difference between using a bare except block and specifying a specific\n",
    "#exception type?\n",
    "\n",
    "#Ans-The point of specifying the Exception is that ONLY that Exception will be caught, if you do not specify any Exception,\n",
    "#then ALL Errors and Exceptions will be caught, potentially masking bugs.\n"
   ]
  },
  {
   "cell_type": "code",
   "execution_count": 3,
   "id": "55c3989f",
   "metadata": {},
   "outputs": [],
   "source": [
    "# 5. Can you have nested try-except blocks in Python? If yes, then give an example.\n",
    "\n",
    "#Ans-Yes, we can have nested try-except blocks in Python.\n",
    "\n",
    "import numpy as np\n",
    "\n",
    "def divide(x, y):\n",
    "    try:\n",
    "        out = x/y\n",
    "    except:\n",
    "        try:\n",
    "            out = np.inf * x / abs(x)\n",
    "        except:\n",
    "            out = np.nan\n",
    "    finally:\n",
    "        return out\n"
   ]
  },
  {
   "cell_type": "code",
   "execution_count": 8,
   "id": "570c48a3",
   "metadata": {},
   "outputs": [
    {
     "data": {
      "text/plain": [
       "5.0"
      ]
     },
     "execution_count": 8,
     "metadata": {},
     "output_type": "execute_result"
    }
   ],
   "source": [
    "divide(15, 3)"
   ]
  },
  {
   "cell_type": "code",
   "execution_count": 9,
   "id": "103435f3",
   "metadata": {},
   "outputs": [
    {
     "data": {
      "text/plain": [
       "inf"
      ]
     },
     "execution_count": 9,
     "metadata": {},
     "output_type": "execute_result"
    }
   ],
   "source": [
    "divide(15, 0)"
   ]
  },
  {
   "cell_type": "code",
   "execution_count": 10,
   "id": "f5a3da14",
   "metadata": {},
   "outputs": [
    {
     "data": {
      "text/plain": [
       "-inf"
      ]
     },
     "execution_count": 10,
     "metadata": {},
     "output_type": "execute_result"
    }
   ],
   "source": [
    "divide(-15, 0)"
   ]
  },
  {
   "cell_type": "code",
   "execution_count": 11,
   "id": "38e5d4e3",
   "metadata": {},
   "outputs": [
    {
     "data": {
      "text/plain": [
       "nan"
      ]
     },
     "execution_count": 11,
     "metadata": {},
     "output_type": "execute_result"
    }
   ],
   "source": [
    "divide(0, 0)"
   ]
  },
  {
   "cell_type": "code",
   "execution_count": 12,
   "id": "7541a192",
   "metadata": {},
   "outputs": [
    {
     "name": "stdout",
     "output_type": "stream",
     "text": [
      "c\n",
      "3\n",
      "can only concatenate str (not \"int\") to str\n"
     ]
    }
   ],
   "source": [
    "# 6. Can we use multiple exception blocks, if yes then give an example.\n",
    "\n",
    "#Ans- \n",
    "\n",
    "string = input()\n",
    "\n",
    "try:\n",
    "    num = int(input())\n",
    "    print(string+num)\n",
    "except (TypeError, ValueError) as e:\n",
    "    print(e)"
   ]
  },
  {
   "cell_type": "code",
   "execution_count": null,
   "id": "5ba2070a",
   "metadata": {},
   "outputs": [],
   "source": [
    "# 7. Write the reason due to which following errors are raised:\n",
    "\n",
    "#a. EOFError\n",
    "#Ans-EOF stands for \"end of file,\" and this syntax error occurs when Python detects an unfinished statement or block of\n",
    "#code. This can happen for many reasons, but the most likely cause is missing punctuation or an incorrectly indented block.\n",
    "\n",
    "#b. FloatingPointError\n",
    "#Ans-This behaviour is the result of one of the following: The binary representation of the decimal number may not be exact.\n",
    "#There is a type mismatch between the numbers used (for example, mixing float and double).\n",
    "\n",
    "#c. Index Error\n",
    "#Ans-This error occurs when an attempt is made to access an item in a list at an index which is out of bounds. \n",
    "#The range of a list in Python is [0, n-1], where n is the number of elements in the list.\n",
    "\n",
    "#d. Memory Error\n",
    "#Ans-A Memory Error means that the interpreter has run out of memory to allocate to your Python program. This may be due\n",
    "#to an issue in the setup of the Python environment or it may be a concern with the code itself loading too much\n",
    "#data at the same time.\n",
    "\n",
    "#e. Overflow Error\n",
    "#Ans- Overflow Error is an exception raised when a calculation exceeds the maximum limit for a numeric type. \n",
    "#It usually occurs when the number is too large to be represented within the available memory.\n",
    "\n",
    "#f.Tab Error\n",
    "#Ans-The Python error “Tab Error: inconsistent use of tabs and spaces in indentation” occurs when you mix tabs and spaces\n",
    "#to indent lines in a code block.\n",
    "\n",
    "#g. Value Error\n",
    "#Ans-When an object is given the incorrect value, the Python Value Error is raised. This may occur if the value\n",
    "#is incorrect for the intended operation, or if the value is missing altogether. A Value Error is raised, for instance,\n",
    "#if a negative integer is supplied to a square root operation."
   ]
  },
  {
   "cell_type": "code",
   "execution_count": 13,
   "id": "88f5f5b3",
   "metadata": {},
   "outputs": [
    {
     "name": "stdout",
     "output_type": "stream",
     "text": [
      "Yeah ! Your answer is : 8\n",
      "Sorry ! You are dividing by zero \n"
     ]
    }
   ],
   "source": [
    "# 8.Write code for the following given scenario and add try-exception block to it.\n",
    "\n",
    "#a. Program to divide two number\n",
    "\n",
    "def divide(x, y):\n",
    "    try:\n",
    "        # Floor Division : Gives only Fractional\n",
    "        # Part as Answer\n",
    "        result = x // y\n",
    "        print(\"Yeah ! Your answer is :\", result)\n",
    "    except ZeroDivisionError:\n",
    "        print(\"Sorry ! You are dividing by zero \")\n",
    "   \n",
    "\n",
    "divide(17, 2)\n",
    "divide(16, 0)"
   ]
  },
  {
   "cell_type": "code",
   "execution_count": 15,
   "id": "c36ea104",
   "metadata": {},
   "outputs": [
    {
     "name": "stdout",
     "output_type": "stream",
     "text": [
      "12\n",
      "Catch Error\n"
     ]
    }
   ],
   "source": [
    "#b. Program to convert a string to an integer\n",
    "\n",
    "a_string = \"12\"\n",
    "\n",
    "try:\n",
    "\n",
    "    an_integer = int(a_string)\n",
    "\n",
    "    print(an_integer)\n",
    "\n",
    "except ValueError:\n",
    "\n",
    "    print(\"Catch Error\")\n",
    "    \n",
    "    \n",
    "    \n",
    "a_string = \"camp\"\n",
    "\n",
    "try:\n",
    "\n",
    "    an_integer = int(a_string)\n",
    "\n",
    "    print(an_integer)\n",
    "\n",
    "except ValueError:\n",
    "\n",
    "    print(\"Catch Error\")"
   ]
  },
  {
   "cell_type": "code",
   "execution_count": 16,
   "id": "9843665b",
   "metadata": {},
   "outputs": [
    {
     "name": "stdout",
     "output_type": "stream",
     "text": [
      "The original list : [6, 4, 8, 9, 10]\n",
      "The value after catching error : Element not found in the list !\n"
     ]
    }
   ],
   "source": [
    "#c.Program to access an element in a list\n",
    "\n",
    "test_list = [6, 4, 8, 9, 10]\n",
    " \n",
    "# printing list\n",
    "print(\"The original list : \" + str(test_list))\n",
    " \n",
    "# Handling no element found in index()\n",
    "# Using try + except + ValueError\n",
    "try :\n",
    "    test_list.index(11)\n",
    "    res = \"Element found\"\n",
    "except ValueError :\n",
    "    res = \"Element not found in the list !\"\n",
    " \n",
    "\n",
    "print(\"The value after catching error : \" + str(res))"
   ]
  },
  {
   "cell_type": "code",
   "execution_count": 20,
   "id": "8b65c21e",
   "metadata": {},
   "outputs": [
    {
     "name": "stdout",
     "output_type": "stream",
     "text": [
      "ZeroDivisionError Occurred and Handled\n"
     ]
    }
   ],
   "source": [
    "#d. Program to handle a specific exception\n",
    "\n",
    "def fun(a):\n",
    "    if a < 4:\n",
    "  \n",
    "        # throws ZeroDivisionError for a = 3\n",
    "        b = a/(a-3)\n",
    "  \n",
    "    # throws NameError if a >= 4\n",
    "    print(\"Value of b = \", b)\n",
    "      \n",
    "try:\n",
    "    fun(3)\n",
    "    fun(5)\n",
    "  \n",
    "\n",
    "# multiple exceptions\n",
    "except ZeroDivisionError:\n",
    "    print(\"ZeroDivisionError Occurred and Handled\")\n",
    "except NameError:\n",
    "    print(\"NameError Occurred and Handled\")"
   ]
  },
  {
   "cell_type": "code",
   "execution_count": 19,
   "id": "c8f0b509",
   "metadata": {},
   "outputs": [
    {
     "name": "stdout",
     "output_type": "stream",
     "text": [
      "Second element = 2\n",
      "Error occurred\n"
     ]
    }
   ],
   "source": [
    "#e. Program to handle any exception\n",
    "\n",
    "a = [1, 2, 3]\n",
    "try:\n",
    "    print (\"Second element = %d\" %(a[1]))\n",
    "  \n",
    "    # Throws error since there are only 3 \n",
    "    # elements in array\n",
    "    print (\"Fourth element = %d\" %(a[3]))\n",
    "  \n",
    "except:\n",
    "    print (\"Error occurred\")"
   ]
  }
 ],
 "metadata": {
  "kernelspec": {
   "display_name": "Python 3 (ipykernel)",
   "language": "python",
   "name": "python3"
  },
  "language_info": {
   "codemirror_mode": {
    "name": "ipython",
    "version": 3
   },
   "file_extension": ".py",
   "mimetype": "text/x-python",
   "name": "python",
   "nbconvert_exporter": "python",
   "pygments_lexer": "ipython3",
   "version": "3.10.9"
  }
 },
 "nbformat": 4,
 "nbformat_minor": 5
}
