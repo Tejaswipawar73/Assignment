{
 "cells": [
  {
   "cell_type": "code",
   "execution_count": null,
   "id": "4bdbd5f4",
   "metadata": {},
   "outputs": [],
   "source": [
    "#1.What exactly is []?\n",
    "#Ans-The empty list value, which is a list value that contains no items."
   ]
  },
  {
   "cell_type": "code",
   "execution_count": 1,
   "id": "8e77cc19",
   "metadata": {},
   "outputs": [
    {
     "data": {
      "text/plain": [
       "[2, 4, 'hello', 8, 10]"
      ]
     },
     "execution_count": 1,
     "metadata": {},
     "output_type": "execute_result"
    }
   ],
   "source": [
    "# 2.In a list of values stored in a variable called spam, how would you assign the value 'hello' as the third value?\n",
    "#(Assume [2, 4, 6, 8, 10] are in spam.)\n",
    "#Ans-\n",
    "\n",
    "spam = [2, 4, 6, 8, 10]\n",
    "spam[2] = 'hello' \n",
    "spam"
   ]
  },
  {
   "cell_type": "code",
   "execution_count": 2,
   "id": "8fc20357",
   "metadata": {},
   "outputs": [
    {
     "data": {
      "text/plain": [
       "'d'"
      ]
     },
     "execution_count": 2,
     "metadata": {},
     "output_type": "execute_result"
    }
   ],
   "source": [
    "#Let's pretend the spam includes the list ['a', 'b', 'c', 'd'] for the next three queries.\n",
    "\n",
    "#3.What is the value of spam[int(int('3' * 2) / 11)]?\n",
    "\n",
    "\n",
    "spam = ['a', 'b', 'c', 'd']\n",
    "spam[int(int('3' * 2) / 11)]\n",
    "\n"
   ]
  },
  {
   "cell_type": "code",
   "execution_count": 3,
   "id": "35f89938",
   "metadata": {},
   "outputs": [
    {
     "data": {
      "text/plain": [
       "'d'"
      ]
     },
     "execution_count": 3,
     "metadata": {},
     "output_type": "execute_result"
    }
   ],
   "source": [
    "#4.What is the value of spam[-1]?\n",
    "\n",
    "spam[-1]"
   ]
  },
  {
   "cell_type": "code",
   "execution_count": 4,
   "id": "c2ab4930",
   "metadata": {},
   "outputs": [
    {
     "data": {
      "text/plain": [
       "['a', 'b']"
      ]
     },
     "execution_count": 4,
     "metadata": {},
     "output_type": "execute_result"
    }
   ],
   "source": [
    "#5.What is the value of spam[:2]?\n",
    "\n",
    "spam[:2]"
   ]
  },
  {
   "cell_type": "code",
   "execution_count": 5,
   "id": "256d7691",
   "metadata": {},
   "outputs": [
    {
     "data": {
      "text/plain": [
       "1"
      ]
     },
     "execution_count": 5,
     "metadata": {},
     "output_type": "execute_result"
    }
   ],
   "source": [
    "#Let's pretend bacon has the list [3.14, 'cat,' 11, 'cat,' True] for the next three questions.\n",
    "\n",
    "bacon = [3.14, 'cat', 11, 'cat', True]\n",
    "\n",
    "#6.What is the value of bacon.index('cat')?\n",
    "\n",
    "bacon.index('cat')\n"
   ]
  },
  {
   "cell_type": "code",
   "execution_count": 6,
   "id": "fcded366",
   "metadata": {},
   "outputs": [
    {
     "data": {
      "text/plain": [
       "[3.14, 'cat', 11, 'cat', True, 99]"
      ]
     },
     "execution_count": 6,
     "metadata": {},
     "output_type": "execute_result"
    }
   ],
   "source": [
    "#7.How does bacon.append(99) change the look of the list value in bacon?\n",
    "\n",
    "\n",
    "\n",
    "bacon.append(99)\n",
    "bacon\n",
    "\n"
   ]
  },
  {
   "cell_type": "code",
   "execution_count": 7,
   "id": "28ef57fc",
   "metadata": {},
   "outputs": [
    {
     "data": {
      "text/plain": [
       "[3.14, 11, 'cat', True, 99]"
      ]
     },
     "execution_count": 7,
     "metadata": {},
     "output_type": "execute_result"
    }
   ],
   "source": [
    "#8.How does bacon.remove('cat') change the look of the list in bacon?\n",
    "\n",
    "bacon.remove('cat')\n",
    "bacon"
   ]
  },
  {
   "cell_type": "code",
   "execution_count": null,
   "id": "9e090e7d",
   "metadata": {},
   "outputs": [],
   "source": [
    "#9.What are the list concatenation and list replication operators?\n",
    "\n",
    "#Ans-The operator for list concatenation is +, while the operator for replication is *."
   ]
  },
  {
   "cell_type": "code",
   "execution_count": null,
   "id": "ed437554",
   "metadata": {},
   "outputs": [],
   "source": [
    "#10.What is difference between the list methods append() and insert()?\n",
    "\n",
    "#Ans-append() adds an item to the end of a list, whereas,\n",
    "#insert() inserts and item in a specified position(anywhere) in the list."
   ]
  },
  {
   "cell_type": "code",
   "execution_count": null,
   "id": "85bf6cb6",
   "metadata": {},
   "outputs": [],
   "source": [
    "#11.What are the two methods for removing items from a list?\n",
    "\n",
    "#Ans-clear(), pop(), and remove()"
   ]
  },
  {
   "cell_type": "code",
   "execution_count": null,
   "id": "271a6e37",
   "metadata": {},
   "outputs": [],
   "source": [
    "#12.Describe how list values and string values are identical.\n",
    "\n",
    "#Ans-Both lists and strings can be passed to len(), have indexes and slices, be used in for loops,\n",
    "#be concatenated or replicated, \n",
    "#and be used with the in and not in operators."
   ]
  },
  {
   "cell_type": "code",
   "execution_count": null,
   "id": "d69fc56f",
   "metadata": {},
   "outputs": [],
   "source": [
    "#13.What's the difference between tuples and lists?\n",
    "\n",
    "#Ans-Lists are mutable; they can have values added, removed, or changed.\n",
    "#Tuples are immutable; they cannot be changed at all.\n",
    "#Also, tuples are written using parentheses, (and),\n",
    "#while lists use the square brackets, [and]."
   ]
  },
  {
   "cell_type": "code",
   "execution_count": null,
   "id": "3388293b",
   "metadata": {},
   "outputs": [],
   "source": [
    "#14.How do you type a tuple value that only contains the integer 42?\n",
    "\n",
    "(42,)"
   ]
  },
  {
   "cell_type": "code",
   "execution_count": null,
   "id": "ac730c3a",
   "metadata": {},
   "outputs": [],
   "source": [
    "#15.How do you get a list value's tuple form? How do you get a tuple value's list form?\n",
    "\n",
    "#Ans- The tuple() and list() functions"
   ]
  },
  {
   "cell_type": "code",
   "execution_count": null,
   "id": "07b745b7",
   "metadata": {},
   "outputs": [],
   "source": [
    "#16.Variables that \"contain\" list values are not necessarily lists themselves. Instead, what do they contain?\n",
    "\n",
    "#Ans- They contain references to list values."
   ]
  },
  {
   "cell_type": "code",
   "execution_count": null,
   "id": "51923d2b",
   "metadata": {},
   "outputs": [],
   "source": [
    "#17.How do you distinguish between copy.copy() and copy.deepcopy()?\n",
    "\n",
    "#Ans-The copy.copy() function will do a shallow copy of a list, \n",
    "#while the copy.deepcopy() function will do a deep copy of a list. \n",
    "#That is, only copy.deepcopy() will duplicate any lists inside the list."
   ]
  }
 ],
 "metadata": {
  "kernelspec": {
   "display_name": "Python 3 (ipykernel)",
   "language": "python",
   "name": "python3"
  },
  "language_info": {
   "codemirror_mode": {
    "name": "ipython",
    "version": 3
   },
   "file_extension": ".py",
   "mimetype": "text/x-python",
   "name": "python",
   "nbconvert_exporter": "python",
   "pygments_lexer": "ipython3",
   "version": "3.10.9"
  }
 },
 "nbformat": 4,
 "nbformat_minor": 5
}
