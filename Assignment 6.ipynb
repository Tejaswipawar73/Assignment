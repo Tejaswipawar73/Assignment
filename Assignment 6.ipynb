{
 "cells": [
  {
   "cell_type": "code",
   "execution_count": 1,
   "id": "653dc96c",
   "metadata": {},
   "outputs": [
    {
     "name": "stdout",
     "output_type": "stream",
     "text": [
      "Python keywords are...\n",
      "['False', 'None', 'True', 'and', 'as', 'assert', 'async', 'await', 'break', 'class', 'continue', 'def', 'del', 'elif', 'else', 'except', 'finally', 'for', 'from', 'global', 'if', 'import', 'in', 'is', 'lambda', 'nonlocal', 'not', 'or', 'pass', 'raise', 'return', 'try', 'while', 'with', 'yield']\n"
     ]
    }
   ],
   "source": [
    "#Q.1. What are keywords in python? Using the keyword library, print all the python keywords\n",
    "\n",
    "#Ans-Value Keywords: True, False, None.\n",
    "#    Operator Keywords: and, or, not, in, is.\n",
    "#    Control Flow Keywords: if, elif, else.\n",
    "#    Iteration Keywords: for, while, break, continue, else.\n",
    "#    Structure Keywords: def, class, with, as, pass, lambda.\n",
    "#    Returning Keywords: return, yield.\n",
    "#    Import Keywords: import, from, as.\n",
    "\n",
    "# Python program to print the list of all keywords\n",
    "\n",
    "# importing the module\n",
    "import keyword\n",
    "\n",
    "# printing the keywords\n",
    "print(\"Python keywords are...\")\n",
    "print(keyword.kwlist)"
   ]
  },
  {
   "cell_type": "code",
   "execution_count": null,
   "id": "a4fab3d1",
   "metadata": {},
   "outputs": [],
   "source": [
    "#Q.2. What are the rules to create variables in python?\n",
    "\n",
    "#Ans-A variable name must start with a letter or the underscore character\n",
    "#    A variable name cannot start with a number\n",
    "#    A variable name can only contain alpha-numeric characters and underscores (A-z, 0-9, and _ )\n",
    "#   Variable names are case-sensitive (age, Age and AGE are three different variables)\n"
   ]
  },
  {
   "cell_type": "code",
   "execution_count": null,
   "id": "e76812ca",
   "metadata": {},
   "outputs": [],
   "source": [
    "#Q.3. What are the standards and conventions followed for the nomenclature of variables in\n",
    "#python to improve code readability and maintainability?\n",
    "\n",
    "#Ans-"
   ]
  },
  {
   "cell_type": "code",
   "execution_count": null,
   "id": "4911a372",
   "metadata": {},
   "outputs": [],
   "source": [
    "#Q.4. What will happen if a keyword is used as a variable name?\n",
    "\n",
    "#Ans-We cannot use keywords as variable names. It's because keywords have predefined meanings."
   ]
  },
  {
   "cell_type": "code",
   "execution_count": null,
   "id": "1be37e38",
   "metadata": {},
   "outputs": [],
   "source": [
    "#Q.5. For what purpose def keyword is used?\n",
    "\n",
    "#Ans-The def keyword is used to create, (or define) a function."
   ]
  },
  {
   "cell_type": "code",
   "execution_count": null,
   "id": "e07f78d7",
   "metadata": {},
   "outputs": [],
   "source": [
    "#Q.6. What is the operation of this special character ‘\\’?\n",
    "\n",
    "#Ans-In Python strings, the backslash \"\\\" is a special character, also called the \"escape\" character.\n",
    "#It is used in representing certain whitespace characters: \"\\t\" is a tab, \"\\n\" is a newline, and \"\\r\" is a carriage return.\n",
    "#Conversely, prefixing a special character with \"\\\" turns it into an ordinary character."
   ]
  },
  {
   "cell_type": "code",
   "execution_count": 4,
   "id": "c76cf84e",
   "metadata": {},
   "outputs": [
    {
     "name": "stdout",
     "output_type": "stream",
     "text": [
      "['apple', 'mango', 'grape', 'banana']\n",
      "{'for', 3.7, 'Tejaswi', 12}\n"
     ]
    }
   ],
   "source": [
    "#Q.7. Give an example of the following conditions\n",
    "\n",
    "#(i) Homogeneous list\n",
    "fruits = [\"apple\",\"mango\",\"grape\",\"banana\"]\n",
    "print(fruits)\n",
    "\n",
    "\n",
    "#(ii) Heterogeneous set\n",
    "myset = {\"Tejaswi\",\"for\", 12, 3.7}\n",
    "print(myset)\n",
    "\n",
    "\n",
    "#(iii)Homogeneous tuple\n",
    "\n"
   ]
  },
  {
   "cell_type": "code",
   "execution_count": null,
   "id": "6e8074f6",
   "metadata": {},
   "outputs": [],
   "source": [
    "#Q.8. Explain the mutable and immutable data types with proper explanation & examples\n",
    "\n",
    "#Ans-(i)Mutable - Mutable is when something is changeable or has the ability to change. \n",
    "#In Python, ‘mutable’ is the ability of objects to change their values.\n",
    "#These are often the objects that store a collection of data.\n",
    "\n",
    "#(ii)Immutable - Immutable is when no change is possible over time.\n",
    "#In Python, if the value of an object cannot be changed over time, then it is known as immutable.\n",
    "#Once created, the value of these objects is permanent. \n",
    "\n",
    "#Objects of built-in type that are mutable are:\n",
    "\n",
    "    Lists\n",
    "    Sets\n",
    "    Dictionaries\n",
    "    User-Defined Classes (It purely depends upon the user to define the characteristics) \n",
    "\n",
    "#Objects of built-in type that are immutable are:\n",
    "\n",
    "    Numbers (Integer, Rational, Float, Decimal, Complex & Booleans)\n",
    "    Strings\n",
    "    Tuples\n",
    "    Frozen Sets\n",
    "    User-Defined Classes (It purely depends upon the user to define the characteristics)\n"
   ]
  },
  {
   "cell_type": "code",
   "execution_count": 11,
   "id": "4fefeb1c",
   "metadata": {},
   "outputs": [
    {
     "name": "stdout",
     "output_type": "stream",
     "text": [
      "Enter number of rows: 5\n",
      "        * \n",
      "      * * * \n",
      "    * * * * * \n",
      "  * * * * * * * \n",
      "* * * * * * * * * \n"
     ]
    }
   ],
   "source": [
    "#.9. Write a code to create the given structure using only for loop.\n",
    "\n",
    "\n",
    "\n",
    "rows = int(input(\"Enter number of rows: \"))\n",
    "\n",
    "k = 0\n",
    "\n",
    "for i in range(1, rows+1):\n",
    "    for space in range(1, (rows-i)+1):\n",
    "        print(end=\"  \")\n",
    "   \n",
    "    while k!=(2*i-1):\n",
    "        print(\"* \", end=\"\")\n",
    "        k += 1\n",
    "   \n",
    "    k = 0\n",
    "    print()"
   ]
  },
  {
   "cell_type": "code",
   "execution_count": 12,
   "id": "4e226586",
   "metadata": {},
   "outputs": [
    {
     "name": "stdout",
     "output_type": "stream",
     "text": [
      "Enter number of rows: 5\n",
      "| | | | | | | \n",
      "  | | | | | \n",
      "    | | | \n",
      "      | \n"
     ]
    }
   ],
   "source": [
    "#10.Write a code to create the given structure using while loop\n",
    "\n",
    "rows = int(input(\"Enter number of rows: \"))\n",
    "\n",
    "for i in range(rows, 1, -1):\n",
    "    for space in range(0, rows-i):\n",
    "        print(\"  \", end=\"\")\n",
    "    for j in range(i, 2*i-1):\n",
    "        print(\"| \", end=\"\")\n",
    "    for j in range(1, i-1):\n",
    "        print(\"| \", end=\"\")\n",
    "    print()"
   ]
  }
 ],
 "metadata": {
  "kernelspec": {
   "display_name": "Python 3 (ipykernel)",
   "language": "python",
   "name": "python3"
  },
  "language_info": {
   "codemirror_mode": {
    "name": "ipython",
    "version": 3
   },
   "file_extension": ".py",
   "mimetype": "text/x-python",
   "name": "python",
   "nbconvert_exporter": "python",
   "pygments_lexer": "ipython3",
   "version": "3.10.9"
  }
 },
 "nbformat": 4,
 "nbformat_minor": 5
}
