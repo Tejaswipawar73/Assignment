{
 "cells": [
  {
   "cell_type": "code",
   "execution_count": 1,
   "id": "3550d414",
   "metadata": {},
   "outputs": [
    {
     "name": "stdout",
     "output_type": "stream",
     "text": [
      "length of string is 4\n",
      "maximum number in list is 67\n",
      "minimum number in list is 4\n",
      "type is <class 'list'>\n"
     ]
    }
   ],
   "source": [
    "#Q1.In Python, what is the difference between a built-in function and a user-defined function? Provide an\n",
    "#example of each.\n",
    "\n",
    "#Ans- \"Built-in functions are already defined in python. A user has to remember the name and parameters of a particular function.\n",
    "#Since these functions are pre-defined, there is no need to define them again.\"\n",
    "\n",
    "\n",
    "l=[4, 6, 67, 34]\n",
    "\n",
    "print(\"length of string is\",len(l))\n",
    "print(\"maximum number in list is\", max(l))\n",
    "print(\"minimum number in list is\", min(l))\n",
    "print(\"type is\",type(l))"
   ]
  },
  {
   "cell_type": "code",
   "execution_count": 2,
   "id": "f1e3dc2d",
   "metadata": {},
   "outputs": [
    {
     "name": "stdout",
     "output_type": "stream",
     "text": [
      "3\n"
     ]
    }
   ],
   "source": [
    "#user-defined function\n",
    "#These functions are defined by a programmer to perform any specific task or \n",
    "#to reduce the complexity of big problems and use that function according to their need.\n",
    "\n",
    "def sub(x, y):\n",
    "    return x-y\n",
    "\n",
    "print(sub(5,2))"
   ]
  },
  {
   "cell_type": "code",
   "execution_count": null,
   "id": "cd47a7c5",
   "metadata": {},
   "outputs": [],
   "source": [
    "# Q 2. How can you pass arguments to a function in Python? Explain the difference between positional\n",
    "#arguments and keyword arguments.\n",
    "\n",
    "#Ans- Information can be passed into functions as arguments. Arguments are specified after the function name, inside the parentheses.\n",
    "#You can add as many arguments as you want, just separate them with a comma.\n",
    "#Python functions can contain two types of arguments: positional arguments and keyword arguments.\n",
    "#Positional arguments must be included in the correct order. \n",
    "#Keyword arguments are included with a keyword and equals sign.\n",
    "#A positional argument is a name that is not followed by an equal sign (=) and default value. \n",
    "#A keyword argument is followed by an equal sign and an expression that gives its default value.\n"
   ]
  },
  {
   "cell_type": "code",
   "execution_count": 1,
   "id": "f1ce5e98",
   "metadata": {},
   "outputs": [
    {
     "name": "stdout",
     "output_type": "stream",
     "text": [
      "enter the first number40\n",
      "enter the second number10\n",
      "The sum of two number is: 50.0\n",
      "The difference of two number is: 30.0\n",
      "The multiplication of two number is: 400.0\n",
      "The division of two number is: 4.0\n"
     ]
    }
   ],
   "source": [
    "# Q 3. What is the purpose of the return statement in a function? Can a function have multiple return\n",
    "#statements? Explain with an example.\n",
    "\n",
    "#Ans- A return statement ends the processing of the current function and returns control to the caller of the function.\n",
    "#A function can have more than one return statement, but only ever run one based on a condition.\n",
    "\n",
    "def calculator():\n",
    "    num1= float(input(\"enter the first number\"))\n",
    "    num2= float(input(\"enter the second number\"))\n",
    "    \n",
    "    \n",
    "    #Addition\n",
    "    result =num1 + num2\n",
    "    print(\"The sum of two number is:\", result)\n",
    "    \n",
    "      #Subtract\n",
    "    result =num1 - num2\n",
    "    print(\"The difference of two number is:\", result)\n",
    "    \n",
    "      # Multiply\n",
    "    result =num1 * num2\n",
    "    print(\"The multiplication of two number is:\", result)\n",
    "    \n",
    "      #Divide\n",
    "    result =num1 / num2\n",
    "    print(\"The division of two number is:\", result)\n",
    "    \n",
    "calculator()    "
   ]
  },
  {
   "cell_type": "code",
   "execution_count": 2,
   "id": "f5f79f01",
   "metadata": {},
   "outputs": [
    {
     "name": "stdout",
     "output_type": "stream",
     "text": [
      "{'name': 'Sheetal', 'status': 'mother'}\n",
      "{'name': 'Siddhesh', 'status': 'husband'}\n",
      "{'name': 'Ganpat', 'status': 'father'}\n",
      "{'name': 'Tushar', 'status': 'brother'}\n"
     ]
    }
   ],
   "source": [
    "# Q 4. What are lambda functions in Python? How are they different from regular functions? Provide an\n",
    "# example where a lambda function can be useful.\n",
    "\n",
    "#Ans- a lambda function is just like any normal python function, except that it has no name when defining it, \n",
    "#and it is contained in one line of code. A lambda function evaluates an expression for a given argument. \n",
    "#You give the function a value (argument) and then provide the operation (expression).\n",
    "\n",
    "products= [{'name':'Sheetal', 'status':'mother'},\n",
    "          {'name':'Ganpat',   'status':'father'},\n",
    "          {'name':'Siddhesh', 'status': 'husband'},\n",
    "          {'name':'Tushar',   'status':'brother'}]\n",
    "\n",
    "sorted_products = sorted(products, key = lambda x:  x['status'],\n",
    "                         reverse = True)\n",
    "\n",
    "for products in sorted_products:\n",
    "    print(products)"
   ]
  },
  {
   "cell_type": "code",
   "execution_count": 7,
   "id": "622478d2",
   "metadata": {},
   "outputs": [
    {
     "ename": "NameError",
     "evalue": "name 'num' is not defined",
     "output_type": "error",
     "traceback": [
      "\u001b[1;31m---------------------------------------------------------------------------\u001b[0m",
      "\u001b[1;31mNameError\u001b[0m                                 Traceback (most recent call last)",
      "Cell \u001b[1;32mIn[7], line 18\u001b[0m\n\u001b[0;32m     16\u001b[0m \u001b[38;5;28;01mdef\u001b[39;00m \u001b[38;5;21madd\u001b[39m():\n\u001b[0;32m     17\u001b[0m   num \u001b[38;5;241m=\u001b[39m \u001b[38;5;241m5\u001b[39m\n\u001b[1;32m---> 18\u001b[0m \u001b[38;5;28mprint\u001b[39m(\u001b[43mnum\u001b[49m)\n",
      "\u001b[1;31mNameError\u001b[0m: name 'num' is not defined"
     ]
    }
   ],
   "source": [
    "# Q 5. How does the concept of \"scope\" apply to functions in Python? Explain the difference between local\n",
    "#scope and global scope.\n",
    "\n",
    "#Ans- Parameters and variables which are assigned inside of a function are in a local scope. \n",
    "#Variables, which are assigned outside of a function, so in the normal program flow,\n",
    "#are in the global scope. This is why we call these variables local variables or global variables. \n",
    "#There is only one global scope, but there can be multiple local scopes at the same time. \n",
    "\n",
    "#In local scope, variables are defined inside a function.\n",
    "#Eg:\n",
    "def add():\n",
    "  num = 5\n",
    "#Here, \"num\" is a local scope variable which means it can only be used inside add().\n",
    "#So, trying to use that variable outside the function will give error, like in this code.\n",
    "\n",
    "def add():\n",
    "  num = 5\n",
    "print(num)\n"
   ]
  },
  {
   "cell_type": "code",
   "execution_count": 10,
   "id": "88114661",
   "metadata": {},
   "outputs": [
    {
     "name": "stdout",
     "output_type": "stream",
     "text": [
      "5\n",
      "5\n"
     ]
    }
   ],
   "source": [
    "#On the other hand, global scope variables are defined outside function, \n",
    "#Eg.\n",
    "num = 5\n",
    "def add():\n",
    "  print(num)\n",
    "add()\n",
    "print(num)\n",
    "\n"
   ]
  },
  {
   "cell_type": "code",
   "execution_count": 12,
   "id": "6776a5b4",
   "metadata": {},
   "outputs": [
    {
     "name": "stdout",
     "output_type": "stream",
     "text": [
      "7\n",
      "5\n"
     ]
    }
   ],
   "source": [
    "#The variable is defined outside the function, so it can be used globally inside/ outside any function.\n",
    "#But local variables will override global variables.\n",
    "\n",
    "\n",
    "num = 5\n",
    "def add():\n",
    "  num = 7\n",
    "  print(num)\n",
    "add()\n",
    "print(num)\n",
    "\n",
    "#Here, the global value of \"num\" is 5. But in the add() function, the value of \"num\" is defined 7 as a local variable. \n",
    "#So, inside the function, the value of num is 7 and outside the function, it's value is 5."
   ]
  },
  {
   "cell_type": "code",
   "execution_count": 16,
   "id": "1763c277",
   "metadata": {},
   "outputs": [
    {
     "name": "stdout",
     "output_type": "stream",
     "text": [
      "abc\n",
      "100\n",
      "[0, 1, 2]\n"
     ]
    }
   ],
   "source": [
    "# Q 6.  How can you use the \"return\" statement in a Python function to return multiple values?\n",
    "\n",
    "#Ans-In Python, you can return multiple values by simply separating them with commas in the return statement. \n",
    "#In Python, comma-separated values are treated as tuples, even without parentheses, unless the syntax requires them.\n",
    "\n",
    "def test2():\n",
    "    return 'abc', 100, [0, 1, 2]\n",
    "\n",
    "a, b, c = test2()\n",
    "\n",
    "print(a)\n",
    "# abc\n",
    "\n",
    "print(b)\n",
    "# 100\n",
    "\n",
    "print(c)\n",
    "# [0, 1, 2]\n"
   ]
  },
  {
   "cell_type": "code",
   "execution_count": 18,
   "id": "923e21da",
   "metadata": {},
   "outputs": [
    {
     "name": "stdout",
     "output_type": "stream",
     "text": [
      "Before function call  100\n",
      "Inside function call  200\n",
      "After function call  100\n"
     ]
    }
   ],
   "source": [
    "# Q 7. What is the difference between the \"pass by value\" and \"pass by reference\" concepts when it\n",
    "#comes to function arguments in Python?\n",
    "\n",
    "#Ans-When you pass function arguments by reference, those arguments are only references to existing values. \n",
    "#In contrast, when you pass arguments by value, those arguments become independent copies of the original values.\n",
    "\n",
    "\n",
    "#Pass by value\n",
    "def function(int):\n",
    "  int+=100\n",
    "  print(\"Inside function call \",int)\n",
    "\n",
    "int=100\n",
    "print(\"Before function call \",int)\n",
    "function(int)\n",
    "print(\"After function call \",int)"
   ]
  },
  {
   "cell_type": "code",
   "execution_count": 21,
   "id": "0609e1a7",
   "metadata": {},
   "outputs": [
    {
     "name": "stdout",
     "output_type": "stream",
     "text": [
      "Before function call ['A']\n",
      "Inside function call ['A', 'B']\n",
      "After function call ['A', 'B']\n"
     ]
    }
   ],
   "source": [
    "#pass by reference\n",
    "\n",
    "def function(int):\n",
    "    int.append('B')\n",
    "    print(\"Inside function call\", int)\n",
    "    \n",
    "int=['A']\n",
    "print(\"Before function call\",int)\n",
    "function(int)\n",
    "print(\"After function call\",int)"
   ]
  },
  {
   "cell_type": "code",
   "execution_count": 10,
   "id": "5ff5f5af",
   "metadata": {},
   "outputs": [
    {
     "name": "stdout",
     "output_type": "stream",
     "text": [
      "1.0000066849139877\n",
      "0.6931471805599453\n",
      "0.0\n"
     ]
    }
   ],
   "source": [
    "# Q 8. Create a function that can intake integer or decimal value and do the following operations:\n",
    "\n",
    "# A. Logarithmic function (log x)\n",
    "\n",
    "# Import math Library\n",
    "import math\n",
    "\n",
    "# Return the natural logarithm of different numbers\n",
    "print(math.log(2.7183))\n",
    "print(math.log(2))\n",
    "print(math.log(1))\n"
   ]
  },
  {
   "cell_type": "code",
   "execution_count": 9,
   "id": "2c2abce1",
   "metadata": {},
   "outputs": [
    {
     "name": "stdout",
     "output_type": "stream",
     "text": [
      "1.6948892444103338e+28\n",
      "0.0010179138409954387\n"
     ]
    }
   ],
   "source": [
    "# B.Exponential function (exp(x))\n",
    "\n",
    "#Import math Library\n",
    "import math\n",
    "\n",
    "#find the exponential of the specified value\n",
    "print(math.exp(65))\n",
    "print(math.exp(-6.89))"
   ]
  },
  {
   "cell_type": "code",
   "execution_count": 24,
   "id": "f2531ac1",
   "metadata": {},
   "outputs": [
    {
     "name": "stdout",
     "output_type": "stream",
     "text": [
      "The value of 2 to the power 2 is : 4.0\n",
      "The value of square root of 25 : 5.0\n"
     ]
    }
   ],
   "source": [
    "# C. Power function with base 2 (2x)\n",
    "# D. Square root\n",
    "\n",
    "# Python code to demonstrate the working of\n",
    "# pow() and sqrt()\n",
    " \n",
    "# importing \"math\" for mathematical operations\n",
    "import math\n",
    " \n",
    "# returning the value of 3**2\n",
    "print (\"The value of 2 to the power 2 is : \", end=\"\")\n",
    "print (math.pow(2,2))\n",
    " \n",
    "# returning the square root of 25\n",
    "print (\"The value of square root of 25 : \", end=\"\")\n",
    "print (math.sqrt(25))"
   ]
  },
  {
   "cell_type": "code",
   "execution_count": 7,
   "id": "7ca9fb7a",
   "metadata": {},
   "outputs": [
    {
     "name": "stdout",
     "output_type": "stream",
     "text": [
      "enter the full name:Siddhesh Chandrakant pawar\n",
      "enter the first name:Siddhesh\n",
      "enter the last name:Pawar\n",
      "student name is: Siddhesh Pawar\n"
     ]
    }
   ],
   "source": [
    "# Q 9. Create a function that takes a full name as an argument and returns first name and last name.\n",
    "\n",
    "#Ans-\n",
    "\n",
    "\n",
    "def format_name():\n",
    "    student_name=input(\"enter the full name:\")\n",
    "    \n",
    "    \n",
    "    format_student_name=student_name.capitalize()\n",
    "    first_name=input(\"enter the first name:\")\n",
    "    last_name=input(\"enter the last name:\")\n",
    "    \n",
    "    \n",
    "    print(\"student name is:\" ,first_name,last_name)\n",
    "    \n",
    "format_name()"
   ]
  },
  {
   "cell_type": "code",
   "execution_count": null,
   "id": "2d8fcdb7",
   "metadata": {},
   "outputs": [],
   "source": []
  }
 ],
 "metadata": {
  "kernelspec": {
   "display_name": "Python 3 (ipykernel)",
   "language": "python",
   "name": "python3"
  },
  "language_info": {
   "codemirror_mode": {
    "name": "ipython",
    "version": 3
   },
   "file_extension": ".py",
   "mimetype": "text/x-python",
   "name": "python",
   "nbconvert_exporter": "python",
   "pygments_lexer": "ipython3",
   "version": "3.10.9"
  }
 },
 "nbformat": 4,
 "nbformat_minor": 5
}
