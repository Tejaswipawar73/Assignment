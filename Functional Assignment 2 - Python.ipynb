{
 "cells": [
  {
   "cell_type": "code",
   "execution_count": null,
   "id": "4cb8d77a",
   "metadata": {},
   "outputs": [],
   "source": [
    "# Q 1. What is a lambda function in Python, and how does it differ from a regular function?\n",
    "\n",
    "#Ans-A lambda function is an anonymous function (i.e., defined without a name) that can take any\n",
    "#number of arguments but, unlike normal functions, evaluates and returns only one expression.\n",
    "#The def defined functions do not return anything if not explicitly returned, whereas the lambda function\n",
    "#does return an object."
   ]
  },
  {
   "cell_type": "code",
   "execution_count": 5,
   "id": "ab011921",
   "metadata": {},
   "outputs": [
    {
     "name": "stdout",
     "output_type": "stream",
     "text": [
      "myStrings1: ['A', 'B', 'C', 'D']\n",
      "myStrings2: ['a', 'b', 'c', 'd']\n",
      "Result: ['Aa', 'Bb', 'Cc', 'Dd']\n"
     ]
    }
   ],
   "source": [
    "# Q 2.Can a lambda function in Python have multiple arguments? If yes, how can you define and use\n",
    "#them?\n",
    "\n",
    "#Ans-Python lambda can be used with multiple arguments \n",
    "#and these arguments are used in evaluating an expression to return a single value.\n",
    "\n",
    "#using string list as multiple arguments\n",
    "# Create string list\n",
    "myStrings1 = [\"A\",\"B\",\"C\",\"D\"]\n",
    "myStrings2 = [\"a\",\"b\",\"c\",\"d\"]\n",
    "print(\"myStrings1:\",myStrings1)\n",
    "print(\"myStrings2:\",myStrings2)\n",
    "\n",
    "# Use lower() function\n",
    "lower_result = list(map(lambda x,y: x + y, myStrings1, myStrings2))\n",
    "print(\"Result:\",lower_result)\n"
   ]
  },
  {
   "cell_type": "code",
   "execution_count": 6,
   "id": "e48f8bd5",
   "metadata": {},
   "outputs": [
    {
     "name": "stdout",
     "output_type": "stream",
     "text": [
      "even\n"
     ]
    }
   ],
   "source": [
    "# Q 3. How are lambda functions typically used in Python? Provide an example use case.\n",
    "\n",
    "#Ans-In Python, we generally use Lambda Functions as an argument to a higher-order function\n",
    "#(a function that takes in other functions as arguments).\n",
    "\n",
    "even_or_odd = lambda x: 'even' if x%2 ==0 else 'odd'\n",
    "print(even_or_odd(12))"
   ]
  },
  {
   "cell_type": "code",
   "execution_count": null,
   "id": "7438f3e8",
   "metadata": {},
   "outputs": [],
   "source": [
    "# Q 4. What are the advantages and limitations of lambda functions compared to regular functions in\n",
    "#Python?\n",
    "\n",
    "#Ans-Advantages of lambda function \n",
    "#1.The code is simple and clear.\n",
    "#2.No additional variables are added.\n",
    "#3.improved readability and conciseness,\n",
    "#4.enabling functional programming, \n",
    "#5.increasing modularity and reusability,\n",
    "#6.enhancing flexibility and dynamism.   \n",
    "\n",
    "# Limitations of Lambda function\n",
    "#1. Lambda expressions are a strange and unfamiliar syntax to many Python programmers.\n",
    "#2. Lambda functions themselves lack names and documentation, \n",
    "#   meaning that the only way to know what they do is to read the code.\n",
    "#3. Lambda expressions can only contain one statement, so some readable language features,\n",
    "#   such as tuple unpacking, cannot be used with them.\n",
    "#4. Lambda functions can often be replaced with existing functions in the standard library or Python built-in functions."
   ]
  },
  {
   "cell_type": "code",
   "execution_count": null,
   "id": "68e857a5",
   "metadata": {},
   "outputs": [],
   "source": [
    "# Q 5. Are lambda functions in Python able to access variables defined outside of their own scope?\n",
    "# Explain with an example.\n"
   ]
  },
  {
   "cell_type": "code",
   "execution_count": 8,
   "id": "b3aec7a7",
   "metadata": {},
   "outputs": [
    {
     "name": "stdout",
     "output_type": "stream",
     "text": [
      "36\n"
     ]
    }
   ],
   "source": [
    "# Q 6. Write a lambda function to calculate the square of a given number.\n",
    "\n",
    "#Ans-\n",
    "\n",
    "square= lambda x: x ** 2\n",
    "print(square(6))"
   ]
  },
  {
   "cell_type": "code",
   "execution_count": 9,
   "id": "140655dd",
   "metadata": {},
   "outputs": [
    {
     "name": "stdout",
     "output_type": "stream",
     "text": [
      "200\n"
     ]
    }
   ],
   "source": [
    "# Q 7. Create a lambda function to find the maximum value in a list of integers.\n",
    "\n",
    "#Ans- \n",
    "\n",
    "max_num = lambda x , y : x if x > y else y\n",
    "print(max_num(150,200))"
   ]
  },
  {
   "cell_type": "code",
   "execution_count": 11,
   "id": "e29f14ca",
   "metadata": {},
   "outputs": [
    {
     "name": "stdout",
     "output_type": "stream",
     "text": [
      "\n",
      "Even numbers from the said list:\n",
      "[56, 78, 16, 14]\n"
     ]
    }
   ],
   "source": [
    "# Q 8. Implement a lambda function to filter out all the even numbers from a list of integers.\n",
    "\n",
    "#Ans-\n",
    "nums = [45, 56, 41, 78, 21, 16, 14, 15]\n",
    "print(\"\\nEven numbers from the said list:\")\n",
    "even_nums = list(filter(lambda x: x%2 == 0, nums))\n",
    "print(even_nums)"
   ]
  },
  {
   "cell_type": "code",
   "execution_count": 12,
   "id": "a859af25",
   "metadata": {},
   "outputs": [
    {
     "name": "stdout",
     "output_type": "stream",
     "text": [
      "['om', 'ria', 'sita', 'simran', 'tejaswini', 'kaushalya', 'bhalchandra']\n"
     ]
    }
   ],
   "source": [
    "# Q 9. Write a lambda function to sort a list of strings in ascending order based on the length of each\n",
    "#string.\n",
    "\n",
    "#Ans- \n",
    "\n",
    "myList = [\"simran\", \"om\", \"sita\", \"tejaswini\", \"ria\", \"bhalchandra\", \"kaushalya\"]\n",
    " \n",
    "sortedList = sorted(myList, key=lambda x: len(x))\n",
    " \n",
    "print(sortedList)"
   ]
  },
  {
   "cell_type": "code",
   "execution_count": 14,
   "id": "9d841fca",
   "metadata": {},
   "outputs": [
    {
     "name": "stdout",
     "output_type": "stream",
     "text": [
      "\\common elements of the said arrays:  [12, 41, 90]\n"
     ]
    }
   ],
   "source": [
    "# Q 10. Create a lambda function that takes two lists as input and returns a new list containing the\n",
    "#common elements between the two lists.\n",
    "\n",
    "#Ans-\n",
    "array_nums1 = [12, 78, 56, 41, 89, 90]\n",
    "array_nums2 = [81, 12, 41, 84, 90]\n",
    "\n",
    "result = list(filter(lambda x: x in array_nums1, array_nums2)) \n",
    "print (\"\\common elements of the said arrays: \",result)"
   ]
  },
  {
   "cell_type": "code",
   "execution_count": 16,
   "id": "89441086",
   "metadata": {},
   "outputs": [
    {
     "name": "stdout",
     "output_type": "stream",
     "text": [
      "The factorial of 9 is 362880\n"
     ]
    }
   ],
   "source": [
    "# Q 11.  Write a recursive function to calculate the factorial of a given positive integer.\n",
    "\n",
    "#Ans- \n",
    "# Factorial of a number using recursion\n",
    "\n",
    "def recur_factorial(n):\n",
    "   if n == 1:\n",
    "       return n\n",
    "   else:\n",
    "       return n*recur_factorial(n-1)\n",
    "\n",
    "num = 9\n",
    "\n",
    "# check if the number is negative\n",
    "if num < 0:\n",
    "   print(\"Sorry, factorial does not exist for negative numbers\")\n",
    "elif num == 0:\n",
    "   print(\"The factorial of 0 is 1\")\n",
    "else:\n",
    "   print(\"The factorial of\", num, \"is\", recur_factorial(num))"
   ]
  },
  {
   "cell_type": "code",
   "execution_count": 17,
   "id": "8e2e6e1d",
   "metadata": {},
   "outputs": [
    {
     "name": "stdout",
     "output_type": "stream",
     "text": [
      "0\n",
      "1\n",
      "1\n",
      "2\n",
      "3\n",
      "5\n",
      "8\n",
      "13\n",
      "21\n",
      "34\n",
      "55\n",
      "89\n",
      "144\n",
      "233\n",
      "377\n",
      "610\n",
      "987\n",
      "1597\n",
      "2584\n",
      "4181\n",
      "6765\n"
     ]
    }
   ],
   "source": [
    "# Q 12. Implement a recursive function to compute the nth Fibonacci number.\n",
    "\n",
    "#Ans-\n",
    "#0, 1, 1, 2, 3, 5, 8, 13, 21, 34.....\n",
    "\n",
    "#here, the pattern is addition of two previous number\n",
    "#0+1=1\n",
    "#1+1=2\n",
    "#1+2=3\n",
    "\n",
    "\n",
    "def print_fibonnaci(n):\n",
    "    a, b = 0, 1\n",
    "    for i in range(n):\n",
    "        print(a)\n",
    "        a, b = b, a + b\n",
    "        \n",
    "print_fibonnaci(21)"
   ]
  },
  {
   "cell_type": "code",
   "execution_count": 18,
   "id": "52718d67",
   "metadata": {},
   "outputs": [
    {
     "name": "stdout",
     "output_type": "stream",
     "text": [
      "15\n"
     ]
    }
   ],
   "source": [
    "# Q 13. Create a recursive function to find the sum of all the elements in a given list.\n",
    "\n",
    "#Ans-\n",
    "def findSum(list1): \n",
    "     if len(list1)== 1: \n",
    "        return list1[0] \n",
    "     else: \n",
    "        return list1[0]+findSum(list1[1:]) \n",
    "  \n",
    "# driver code \n",
    "list1 =[] \n",
    "# input values to list \n",
    "list1 = [1, 2, 3, 4, 5] \n",
    "print(findSum(list1))"
   ]
  },
  {
   "cell_type": "code",
   "execution_count": 20,
   "id": "90b27f01",
   "metadata": {},
   "outputs": [
    {
     "name": "stdout",
     "output_type": "stream",
     "text": [
      "Enter string:dad\n",
      "String is a palindrome!\n"
     ]
    }
   ],
   "source": [
    "# Q 14. Write a recursive function to determine whether a given string is a palindrome.\n",
    "\n",
    "#Ans-\n",
    "def is_palindrome(s):\n",
    "    if len(s) < 1:\n",
    "        return True\n",
    "    else:\n",
    "        if s[0] == s[-1]:\n",
    "            return is_palindrome(s[1:-1])\n",
    "        else:\n",
    "            return False\n",
    "a=str(input(\"Enter string:\"))\n",
    "if(is_palindrome(a)==True):\n",
    "    print(\"String is a palindrome!\")\n",
    "else:\n",
    "    print(\"String isn't a palindrome!\")"
   ]
  },
  {
   "cell_type": "code",
   "execution_count": 21,
   "id": "26788e92",
   "metadata": {},
   "outputs": [
    {
     "name": "stdout",
     "output_type": "stream",
     "text": [
      "Enter a value for x: 12\n",
      "Enter a value for y: 16\n",
      "4\n"
     ]
    }
   ],
   "source": [
    "# Q 15.  Implement a recursive function to find the greatest common divisor (GCD) of two positive integers.\n",
    "\n",
    "#Ans-\n",
    "def gcd(x , y):\n",
    "    if y == 0:\n",
    "        return x\n",
    "    else:\n",
    "        return gcd(y, x % y)\n",
    "\n",
    "num_one = int(input('Enter a value for x: '))\n",
    "num_two = int(input('Enter a value for y: '))\n",
    "if num_two == 0:\n",
    "    print(num_one)\n",
    "else:\n",
    "    print(gcd(num_one, num_two))"
   ]
  },
  {
   "cell_type": "code",
   "execution_count": null,
   "id": "30b9bf4d",
   "metadata": {},
   "outputs": [],
   "source": []
  }
 ],
 "metadata": {
  "kernelspec": {
   "display_name": "Python 3 (ipykernel)",
   "language": "python",
   "name": "python3"
  },
  "language_info": {
   "codemirror_mode": {
    "name": "ipython",
    "version": 3
   },
   "file_extension": ".py",
   "mimetype": "text/x-python",
   "name": "python",
   "nbconvert_exporter": "python",
   "pygments_lexer": "ipython3",
   "version": "3.10.9"
  }
 },
 "nbformat": 4,
 "nbformat_minor": 5
}
